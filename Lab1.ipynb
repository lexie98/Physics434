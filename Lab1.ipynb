{
 "cells": [
  {
   "cell_type": "code",
   "execution_count": 2,
   "metadata": {},
   "outputs": [],
   "source": [
    "%matplotlib inline\n",
    "\n",
    "import matplotlib.pyplot as plt\n",
    "import pandas as pd\n",
    "\n",
    "import numpy as np\n",
    "import scipy \n",
    "from scipy import stats\n",
    "from scipy.stats import lognorm"
   ]
  },
  {
   "cell_type": "markdown",
   "metadata": {},
   "source": [
    "### 1. Converting a probability into a 'sigma'. As discussed in class, 'sigma' refers to a probability in physics. Our first task is to figure out how, given a probability, to calculate the assoicated 'sigma' value. The sigma implicitly refers to the standard normal distribution (a Gaussian with mean zero and stard deviation of 1). As we discussed in class, integrals of the standard normal distribution give probabilities."
   ]
  },
  {
   "cell_type": "markdown",
   "metadata": {},
   "source": [
    "#### A)Look up the Normal distribution and read about it. A few potential starting points: Math is fun, Wolfram, and a useful z table"
   ]
  },
  {
   "cell_type": "code",
   "execution_count": 3,
   "metadata": {},
   "outputs": [
    {
     "data": {
      "text/html": [
       "<div>\n",
       "<style scoped>\n",
       "    .dataframe tbody tr th:only-of-type {\n",
       "        vertical-align: middle;\n",
       "    }\n",
       "\n",
       "    .dataframe tbody tr th {\n",
       "        vertical-align: top;\n",
       "    }\n",
       "\n",
       "    .dataframe thead th {\n",
       "        text-align: right;\n",
       "    }\n",
       "</style>\n",
       "<table border=\"1\" class=\"dataframe\">\n",
       "  <thead>\n",
       "    <tr style=\"text-align: right;\">\n",
       "      <th></th>\n",
       "      <th>Probability</th>\n",
       "      <th>Sigma</th>\n",
       "    </tr>\n",
       "  </thead>\n",
       "  <tbody>\n",
       "    <tr>\n",
       "      <th>0</th>\n",
       "      <td>0.69146</td>\n",
       "      <td>0.5</td>\n",
       "    </tr>\n",
       "    <tr>\n",
       "      <th>1</th>\n",
       "      <td>0.84134</td>\n",
       "      <td>1.0</td>\n",
       "    </tr>\n",
       "    <tr>\n",
       "      <th>2</th>\n",
       "      <td>0.98928</td>\n",
       "      <td>2.3</td>\n",
       "    </tr>\n",
       "    <tr>\n",
       "      <th>3</th>\n",
       "      <td>0.99966</td>\n",
       "      <td>3.4</td>\n",
       "    </tr>\n",
       "    <tr>\n",
       "      <th>4</th>\n",
       "      <td>0.99997</td>\n",
       "      <td>4.0</td>\n",
       "    </tr>\n",
       "    <tr>\n",
       "      <th>5</th>\n",
       "      <td>1.00000</td>\n",
       "      <td>5.0</td>\n",
       "    </tr>\n",
       "  </tbody>\n",
       "</table>\n",
       "</div>"
      ],
      "text/plain": [
       "   Probability  Sigma\n",
       "0      0.69146    0.5\n",
       "1      0.84134    1.0\n",
       "2      0.98928    2.3\n",
       "3      0.99966    3.4\n",
       "4      0.99997    4.0\n",
       "5      1.00000    5.0"
      ]
     },
     "execution_count": 3,
     "metadata": {},
     "output_type": "execute_result"
    }
   ],
   "source": [
    "#A small table of some sigma values and their z-score for reference in part B\n",
    "#These values where taken from https://en.wikipedia.org/wiki/Standard_normal_table\n",
    "\n",
    "z_table = pd.DataFrame(columns={\"Sigma\", \"Probability\"})\n",
    "z_table[\"Sigma\"] = [0.5, 1, 2.3, 3.4, 4, 5]\n",
    "z_table[\"Probability\"] = [0.69146, 0.84134, 0.98928, 0.99966, 0.99997, 1.0]\n",
    "z_table"
   ]
  },
  {
   "cell_type": "markdown",
   "metadata": {},
   "source": [
    "#### B) As in class, try integrating the standard normal distribution. This can be done either with the erfc(), or calls to specific statistical cumulative probability distributions such as normcdf() in MatLab or stats.norm.cdf() in scipy. Try several values of sigma, and make sure you are getting values that match the z-table."
   ]
  },
  {
   "cell_type": "code",
   "execution_count": 4,
   "metadata": {},
   "outputs": [
    {
     "data": {
      "text/html": [
       "<div>\n",
       "<style scoped>\n",
       "    .dataframe tbody tr th:only-of-type {\n",
       "        vertical-align: middle;\n",
       "    }\n",
       "\n",
       "    .dataframe tbody tr th {\n",
       "        vertical-align: top;\n",
       "    }\n",
       "\n",
       "    .dataframe thead th {\n",
       "        text-align: right;\n",
       "    }\n",
       "</style>\n",
       "<table border=\"1\" class=\"dataframe\">\n",
       "  <thead>\n",
       "    <tr style=\"text-align: right;\">\n",
       "      <th></th>\n",
       "      <th>Probability</th>\n",
       "      <th>Sigma</th>\n",
       "    </tr>\n",
       "  </thead>\n",
       "  <tbody>\n",
       "    <tr>\n",
       "      <th>0</th>\n",
       "      <td>0.539828</td>\n",
       "      <td>0.1</td>\n",
       "    </tr>\n",
       "    <tr>\n",
       "      <th>1</th>\n",
       "      <td>0.655422</td>\n",
       "      <td>0.4</td>\n",
       "    </tr>\n",
       "    <tr>\n",
       "      <th>2</th>\n",
       "      <td>0.691462</td>\n",
       "      <td>0.5</td>\n",
       "    </tr>\n",
       "    <tr>\n",
       "      <th>3</th>\n",
       "      <td>0.841345</td>\n",
       "      <td>1.0</td>\n",
       "    </tr>\n",
       "    <tr>\n",
       "      <th>4</th>\n",
       "      <td>0.989276</td>\n",
       "      <td>2.3</td>\n",
       "    </tr>\n",
       "    <tr>\n",
       "      <th>5</th>\n",
       "      <td>0.999663</td>\n",
       "      <td>3.4</td>\n",
       "    </tr>\n",
       "    <tr>\n",
       "      <th>6</th>\n",
       "      <td>0.999968</td>\n",
       "      <td>4.0</td>\n",
       "    </tr>\n",
       "    <tr>\n",
       "      <th>7</th>\n",
       "      <td>1.000000</td>\n",
       "      <td>5.0</td>\n",
       "    </tr>\n",
       "  </tbody>\n",
       "</table>\n",
       "</div>"
      ],
      "text/plain": [
       "   Probability  Sigma\n",
       "0     0.539828    0.1\n",
       "1     0.655422    0.4\n",
       "2     0.691462    0.5\n",
       "3     0.841345    1.0\n",
       "4     0.989276    2.3\n",
       "5     0.999663    3.4\n",
       "6     0.999968    4.0\n",
       "7     1.000000    5.0"
      ]
     },
     "execution_count": 4,
     "metadata": {},
     "output_type": "execute_result"
    }
   ],
   "source": [
    "sigma_values = [0.1, 0.4, 0.5, 1, 2.3 , 3.4, 4, 5]\n",
    "intergrated_snd = stats.norm.cdf(sigma_values)\n",
    "\n",
    "z_table_test = pd.DataFrame(columns={\"Sigma\", \"Probability\"})\n",
    "z_table_test[\"Sigma\"] = sigma_values\n",
    "z_table_test[\"Probability\"] = intergrated_snd\n",
    "z_table_test"
   ]
  },
  {
   "cell_type": "code",
   "execution_count": 5,
   "metadata": {},
   "outputs": [
    {
     "data": {
      "text/plain": [
       "[<matplotlib.lines.Line2D at 0x2275661ecc0>]"
      ]
     },
     "execution_count": 5,
     "metadata": {},
     "output_type": "execute_result"
    },
    {
     "data": {
      "image/png": "[encoded data removed]",
      "text/plain": [
       "<Figure size 432x288 with 1 Axes>"
      ]
     },
     "metadata": {
      "needs_background": "light"
     },
     "output_type": "display_data"
    }
   ],
   "source": [
    "sigma_values = np.linspace(-5,5,100)\n",
    "continuous_int_snd = stats.norm.cdf(sigma_values)\n",
    "\n",
    "plt.xlabel('Sigma')\n",
    "plt.ylabel('Probability')\n",
    "plt.title('Cumulative Distribution Function for a Normal Distribution')\n",
    "plt.plot(sigma_values, continuous_int_snd)"
   ]
  },
  {
   "cell_type": "markdown",
   "metadata": {},
   "source": [
    "#### C) Now more often than not, we actually want to do the inverse: for a given probability determine the associated 'sigma' value: norminv() or erfcinv() in MatLab; stats.norm.ppf() in python. Try several probability values where you know what the answer should be (e.g. Probability associated with 1, 2, 5 sigma), and show that you get the right answer in terms of sigma."
   ]
  },
  {
   "cell_type": "code",
   "execution_count": 6,
   "metadata": {},
   "outputs": [
    {
     "name": "stdout",
     "output_type": "stream",
     "text": [
      "-0.2533471031357997\n",
      "0.0\n",
      "1.000001049431045\n",
      "2.30000388399833\n"
     ]
    }
   ],
   "source": [
    "print(stats.norm.ppf(0.4))      #showing anything below 0.5 returns a negative sigma\n",
    "print(stats.norm.ppf(0.5))      #sigma of 0\n",
    "print(stats.norm.ppf(0.841345)) #sigma of 1\n",
    "print(stats.norm.ppf(0.989276)) # sigma of 2.3\n",
    "\n"
   ]
  },
  {
   "cell_type": "markdown",
   "metadata": {},
   "source": [
    "#### D)Think about and explain the meaning of the minus sign that appears, and discuss how you will deal with it."
   ]
  },
  {
   "cell_type": "markdown",
   "metadata": {},
   "source": [
    "Anything less than a sigma (z-score) of 0.5 will be negative. By taking the absolute value of the ppf, we can effectively deal with the negative. This is acceptable since the standard normal distribution is centered around zero meaning the percentage of each sigma will be the same as its negative."
   ]
  },
  {
   "cell_type": "code",
   "execution_count": 7,
   "metadata": {},
   "outputs": [
    {
     "name": "stdout",
     "output_type": "stream",
     "text": [
      "0.38138781546052414\n",
      "0.38138781546052414\n"
     ]
    }
   ],
   "source": [
    "#Showing that both the positive and negative result in the same value\n",
    "print(stats.norm.pdf(0.3, loc=0, scale=1))\n",
    "print(stats.norm.pdf(-0.3, loc=0,scale=1))"
   ]
  },
  {
   "cell_type": "markdown",
   "metadata": {},
   "source": [
    "### 2. Now let's explore some other continuous analytic distributions. Following the pattern from your first HW assigment, make both the analytic pdf() and a realization with ~100k samples using a built-in distribution; but this time don't use the Gaussian. Choose one of the following distributions: Rayleigh; Lognormal; Chi-Squared or Gamma; Exponential. You and your partner should choose different distributions."
   ]
  },
  {
   "cell_type": "markdown",
   "metadata": {},
   "source": [
    "#### A)Read up on your distribution"
   ]
  },
  {
   "cell_type": "markdown",
   "metadata": {},
   "source": [
    "A log-normal distribution is a statistical distribution of logarithmic values from a related normal distribution."
   ]
  },
  {
   "cell_type": "markdown",
   "metadata": {},
   "source": [
    "#### B) Make plots (tweaking distribution and plot parameters as needed)"
   ]
  },
  {
   "cell_type": "code",
   "execution_count": 8,
   "metadata": {},
   "outputs": [
    {
     "data": {
      "image/png": "[encoded data removed]",
      "text/plain": [
       "<Figure size 792x612 with 1 Axes>"
      ]
     },
     "metadata": {
      "needs_background": "light"
     },
     "output_type": "display_data"
    }
   ],
   "source": [
    "d = stats.lognorm.rvs(0.3, loc = 5, scale = 0.01, size = 100000)\n",
    "\n",
    "fig, ax = plt.subplots(1,1)\n",
    "fig.set_size_inches(11,8.5)                   \n",
    "fig.tight_layout()   \n",
    "\n",
    "ax.hist(d,50, density=True)\n",
    "plt.tick_params(labelsize = 24)\n",
    "plt.xlim([5,5.05])\n",
    "x = np.linspace(4.95,5.05,100000)\n",
    "ax.set_title(\"Lognormal Probabilty Density Function\")\n",
    "ax.plot(x,stats.lognorm.pdf(x, 0.3, loc = 5, scale = .01))\n",
    "plt.show()"
   ]
  },
  {
   "cell_type": "markdown",
   "metadata": {},
   "source": [
    "### 3) Imagine that your signal-free data follows the distribution you have chosen; and you have a measurement for which you need to determine the 'sigma'"
   ]
  },
  {
   "cell_type": "markdown",
   "metadata": {},
   "source": [
    "#### A) Select a value for your hypothetical measurement"
   ]
  },
  {
   "cell_type": "markdown",
   "metadata": {},
   "source": [
    "I will choose the hypothetical measurement of 5.02 from the lognormal plot above."
   ]
  },
  {
   "cell_type": "markdown",
   "metadata": {},
   "source": [
    "#### B) Clearly state the statistical question you want to ask in words\n"
   ]
  },
  {
   "cell_type": "markdown",
   "metadata": {},
   "source": [
    "What is the probability of getting a value greater than 5.02 from the signal-free data following the lognormal distribution above?"
   ]
  },
  {
   "cell_type": "markdown",
   "metadata": {},
   "source": [
    "#### C) Convert your word question into a mathematical integral"
   ]
  },
  {
   "cell_type": "markdown",
   "metadata": {},
   "source": [
    "Probability = $\\int_5^\\infty \\frac{1}{sx\\sqrt{2\\pi}}e^{-\\frac{log^2(x)}{2s^2}}dx $"
   ]
  },
  {
   "cell_type": "markdown",
   "metadata": {},
   "source": [
    "#### D) Use the math to calculate the probability that the background produced the signal (Hint: you will want to use the statistics functions to do the integrals. cdf() and icdf() in MatLab; .cdf() and .ppf() in scipy)."
   ]
  },
  {
   "cell_type": "code",
   "execution_count": 9,
   "metadata": {},
   "outputs": [
    {
     "name": "stdout",
     "output_type": "stream",
     "text": [
      "3.619210441757344e-39\n"
     ]
    }
   ],
   "source": [
    "probability = stats.lognorm.cdf(5.02, 0.3, loc = 5, scale = 1)\n",
    "print(probability)"
   ]
  },
  {
   "cell_type": "markdown",
   "metadata": {},
   "source": [
    "#### E) Convert your probability into an equivalent 'sigma'"
   ]
  },
  {
   "cell_type": "code",
   "execution_count": 10,
   "metadata": {},
   "outputs": [
    {
     "data": {
      "text/plain": [
       "0.019999999999999567"
      ]
     },
     "execution_count": 10,
     "metadata": {},
     "output_type": "execute_result"
    }
   ],
   "source": [
    "sigma = stats.lognorm.ppf(probability, 0.3)\n",
    "sigma"
   ]
  },
  {
   "cell_type": "markdown",
   "metadata": {},
   "source": [
    "### 4. Now explore a little bit. Try various hypothetical measurement values and see how the probabilities and 'sigmas' change. Discuss the patterns that you see."
   ]
  },
  {
   "cell_type": "code",
   "execution_count": 11,
   "metadata": {},
   "outputs": [],
   "source": [
    "hypo_meas = np.array([5.01, 5.013, 5.015, 5.017, 5.025])\n",
    "probabilities = stats.lognorm.cdf(hypo_meas, 0.3, loc = 5, scale = 1)\n",
    "sigma = stats.lognorm.ppf(probabilities, 0.3)"
   ]
  },
  {
   "cell_type": "code",
   "execution_count": 12,
   "metadata": {},
   "outputs": [
    {
     "data": {
      "text/html": [
       "<div>\n",
       "<style scoped>\n",
       "    .dataframe tbody tr th:only-of-type {\n",
       "        vertical-align: middle;\n",
       "    }\n",
       "\n",
       "    .dataframe tbody tr th {\n",
       "        vertical-align: top;\n",
       "    }\n",
       "\n",
       "    .dataframe thead th {\n",
       "        text-align: right;\n",
       "    }\n",
       "</style>\n",
       "<table border=\"1\" class=\"dataframe\">\n",
       "  <thead>\n",
       "    <tr style=\"text-align: right;\">\n",
       "      <th></th>\n",
       "      <th>Sigma</th>\n",
       "      <th>Probabilities</th>\n",
       "      <th>Measurement</th>\n",
       "    </tr>\n",
       "  </thead>\n",
       "  <tbody>\n",
       "    <tr>\n",
       "      <th>0</th>\n",
       "      <td>0.010</td>\n",
       "      <td>1.755513e-53</td>\n",
       "      <td>5.010</td>\n",
       "    </tr>\n",
       "    <tr>\n",
       "      <th>1</th>\n",
       "      <td>0.013</td>\n",
       "      <td>8.587970e-48</td>\n",
       "      <td>5.013</td>\n",
       "    </tr>\n",
       "    <tr>\n",
       "      <th>2</th>\n",
       "      <td>0.015</td>\n",
       "      <td>7.902087e-45</td>\n",
       "      <td>5.015</td>\n",
       "    </tr>\n",
       "    <tr>\n",
       "      <th>3</th>\n",
       "      <td>0.017</td>\n",
       "      <td>2.567215e-42</td>\n",
       "      <td>5.017</td>\n",
       "    </tr>\n",
       "    <tr>\n",
       "      <th>4</th>\n",
       "      <td>0.025</td>\n",
       "      <td>4.743009e-35</td>\n",
       "      <td>5.025</td>\n",
       "    </tr>\n",
       "  </tbody>\n",
       "</table>\n",
       "</div>"
      ],
      "text/plain": [
       "   Sigma  Probabilities  Measurement\n",
       "0  0.010   1.755513e-53        5.010\n",
       "1  0.013   8.587970e-48        5.013\n",
       "2  0.015   7.902087e-45        5.015\n",
       "3  0.017   2.567215e-42        5.017\n",
       "4  0.025   4.743009e-35        5.025"
      ]
     },
     "execution_count": 12,
     "metadata": {},
     "output_type": "execute_result"
    }
   ],
   "source": [
    "table = pd.DataFrame(columns={\"Measurement\", \"Sigma\", \"Probabilities\"})\n",
    "table[\"Measurement\"] = hypo_meas\n",
    "table[\"Probabilities\"] = probabilities\n",
    "table[\"Sigma\"] = sigma\n",
    "\n",
    "table"
   ]
  },
  {
   "cell_type": "markdown",
   "metadata": {},
   "source": [
    "As the measurement increases, so does the probabilites and the sigma. "
   ]
  },
  {
   "cell_type": "markdown",
   "metadata": {},
   "source": [
    "### 5. In many physics contexts we are counting descrete events. We can detect 9 gamma-rays or 10 gamma-rays, but 9.2 gamma-rays makes no sense. In these contexts the continuous distributions make no sense and we instead must use discrete distributions. The two most common of these are the Binomial and the Poisson (which is a limiting case of the Binomial). One of you will study the Binomial, and the other the Poisson. Flip a coin to figure out who does which.\n",
    "\n"
   ]
  },
  {
   "cell_type": "markdown",
   "metadata": {},
   "source": [
    "#### A) Read up on the distributions"
   ]
  },
  {
   "cell_type": "markdown",
   "metadata": {},
   "source": [
    "The flip of a coin landed me with Binomial distributions. This is a discrete probability distribution that accounts for the number of successful attempts in a number of indepent experiments that can only result in success or failure. Additionally, the probability of a success is defined for the specific circumstance."
   ]
  },
  {
   "cell_type": "markdown",
   "metadata": {},
   "source": [
    "#### B) Make a series of plots with different parameters; and explain the features. (Hint: your plots will need to be discrete, sometimes 'stairs' style plots can be helpful)."
   ]
  },
  {
   "cell_type": "code",
   "execution_count": 16,
   "metadata": {},
   "outputs": [
    {
     "data": {
      "image/png": "[encoded data removed]",
      "text/plain": [
       "<Figure size 792x612 with 4 Axes>"
      ]
     },
     "metadata": {
      "needs_background": "light"
     },
     "output_type": "display_data"
    }
   ],
   "source": [
    "# In this series of plots I am changing the probabilty of getting x successes while maintaining the amount of trials.\n",
    "x = np.arange(0, 10,1)\n",
    "\n",
    "fig, ax = plt.subplots(2,2)                                              \n",
    "fig.set_size_inches(11,8.5)                                               \n",
    "\n",
    "fig.tight_layout()                                                        \n",
    "\n",
    "ax[0,0].bar(x, stats.binom.pmf(x,7, 0.1), color='b')              \n",
    "\n",
    "ax[0,1].bar(x, stats.binom.pmf(x,7, 0.25), facecolor='MediumOrchid')                       \n",
    "\n",
    "ax[1,0].bar(x,stats.binom.pmf(x,7, 0.5), facecolor='HotPink')       \n",
    "                                               \n",
    "ax[1,1].bar(x, stats.binom.pmf(x,7, 0.8), color='r'); "
   ]
  },
  {
   "cell_type": "markdown",
   "metadata": {},
   "source": [
    "From the plots above, we can see that as proability increases, so does the number of successes."
   ]
  },
  {
   "cell_type": "code",
   "execution_count": 17,
   "metadata": {},
   "outputs": [
    {
     "data": {
      "image/png": "[encoded data removed]",
      "text/plain": [
       "<Figure size 792x612 with 4 Axes>"
      ]
     },
     "metadata": {
      "needs_background": "light"
     },
     "output_type": "display_data"
    }
   ],
   "source": [
    "#In this set of plots, I maintain the probability to be 50% while changing the number of experiments.\n",
    "fig, ax = plt.subplots(2,2)                                              \n",
    "fig.set_size_inches(11,8.5)                                               \n",
    "\n",
    "fig.tight_layout()                                                        \n",
    "\n",
    "ax[0,0].bar(x, stats.binom.pmf(x,1, 0.5), color='b')              \n",
    "\n",
    "ax[0,1].bar(x, stats.binom.pmf(x,3, 0.5), facecolor='MediumOrchid')                       \n",
    "\n",
    "ax[1,0].bar(x,stats.binom.pmf(x,7, 0.5), facecolor='HotPink')       \n",
    "                                               \n",
    "ax[1,1].bar(x, stats.binom.pmf(x,10, 0.5), color='r'); "
   ]
  },
  {
   "cell_type": "markdown",
   "metadata": {},
   "source": [
    "Maintaing the proabability at fifty percent while increasing the trials, begins to turn this binomial distribution into something that looks almost Gaussian. "
   ]
  },
  {
   "cell_type": "markdown",
   "metadata": {},
   "source": [
    "#### C) Again define a hypothetical question (clearly stated), and calculate the corresponding probability"
   ]
  },
  {
   "cell_type": "markdown",
   "metadata": {},
   "source": [
    "**Hypothetical Question:** A gymnast has a 60% probabilty of sticking her beam routine. If her coach asks her to do 15 routines, what is the probability of her sticking only 3 routines (and inciting the wrath of her coach)?"
   ]
  },
  {
   "cell_type": "code",
   "execution_count": 15,
   "metadata": {},
   "outputs": [
    {
     "data": {
      "text/plain": [
       "0.0016488647884800086"
      ]
     },
     "execution_count": 15,
     "metadata": {},
     "output_type": "execute_result"
    }
   ],
   "source": [
    "stats.binom.pmf(3,15,0.6)"
   ]
  },
  {
   "cell_type": "markdown",
   "metadata": {},
   "source": [
    "**Answer**: The probability of her sticking 3 of the 15 routines is only 0.16%"
   ]
  },
  {
   "cell_type": "markdown",
   "metadata": {},
   "source": [
    "#### D) Because the distributions are discrete, so are the probabilities and 'sigmas'. Think about this and discuss the implications for experiments."
   ]
  },
  {
   "cell_type": "markdown",
   "metadata": {},
   "source": [
    "This just means that some probabilities and sigmas are not possible for certain experiments as the results are discrete."
   ]
  },
  {
   "cell_type": "markdown",
   "metadata": {},
   "source": [
    "#### E) While the results are discrete, the parameters of the distributions are not. For example, the mean of a Poisson distribution can be 9.2. Think about and explain why this makes sense and what changes continuously and what doesn't."
   ]
  },
  {
   "cell_type": "markdown",
   "metadata": {},
   "source": [
    "The mean of a binomial distibution is the number of trials times the probability of success (mean = np). The results can be either success of failure, thus their nature being discrete. The percentage parameter, on the otherhand, does not have to be discrete. This then allows for the mean to be non-discrete as well. "
   ]
  }
 ],
 "metadata": {
  "kernelspec": {
   "display_name": "Python 3",
   "language": "python",
   "name": "python3"
  },
  "language_info": {
   "codemirror_mode": {
    "name": "ipython",
    "version": 3
   },
   "file_extension": ".py",
   "mimetype": "text/x-python",
   "name": "python",
   "nbconvert_exporter": "python",
   "pygments_lexer": "ipython3",
   "version": "3.7.3"
  }
 },
 "nbformat": 4,
 "nbformat_minor": 2
}
