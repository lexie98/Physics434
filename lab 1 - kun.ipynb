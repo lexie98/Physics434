{
 "cells": [
  {
   "cell_type": "code",
   "execution_count": 1,
   "metadata": {},
   "outputs": [],
   "source": [
    "#Setup\n",
    "%matplotlib inline\n",
    "import numpy as np\n",
    "import matplotlib\n",
    "import matplotlib.pyplot as plt\n",
    "import scipy\n",
    "from scipy import stats\n",
    "\n",
    "#this sets the size of the plot to something useful\n",
    "plt.rcParams[\"figure.figsize\"] = (20,15)"
   ]
  },
  {
   "cell_type": "code",
   "execution_count": 2,
   "metadata": {},
   "outputs": [],
   "source": [
    "d = stats.norm.rvs(loc = 5., scale = 0.01, size = 100000)"
   ]
  },
  {
   "cell_type": "code",
   "execution_count": 3,
   "metadata": {},
   "outputs": [
    {
     "data": {
      "image/png": "[encoded data removed]",
      "text/plain": [
       "<Figure size 432x288 with 1 Axes>"
      ]
     },
     "metadata": {
      "needs_background": "light"
     },
     "output_type": "display_data"
    }
   ],
   "source": [
    "#Setup sample graph\n",
    "fig, ax = plt.subplots(1, 1)\n",
    "ax.hist(d,50, density=True)\n",
    "plt.tick_params(labelsize = 24)\n",
    "plt.xlim([4.95,5.05])\n",
    "x = np.linspace(4.95,5.05,1000)\n",
    "ax.plot(x,stats.norm.pdf(x,loc = 5., scale = 0.01),linewidth = 8,alpha = 0.7)\n",
    "plt.show()"
   ]
  },
  {
   "cell_type": "code",
   "execution_count": null,
   "metadata": {},
   "outputs": [],
   "source": []
  },
  {
   "cell_type": "code",
   "execution_count": null,
   "metadata": {},
   "outputs": [],
   "source": []
  },
  {
   "cell_type": "code",
   "execution_count": 195,
   "metadata": {},
   "outputs": [
    {
     "data": {
      "text/plain": [
       "array([0.65542174, 0.84134475, 0.97724987, 0.9986501 , 0.99996833])"
      ]
     },
     "execution_count": 195,
     "metadata": {},
     "output_type": "execute_result"
    }
   ],
   "source": [
    "\n",
    "#part 1b\n",
    "values = [0.4,1,2,3,4]\n",
    "cdf = stats.norm.cdf(values)\n",
    "cdf\n",
    "#checking with the z-table in wikipedia and these values look right"
   ]
  },
  {
   "cell_type": "code",
   "execution_count": 36,
   "metadata": {},
   "outputs": [
    {
     "data": {
      "text/plain": [
       "array([0.65542174, 0.84134475, 0.97724987, 0.9986501 , 0.99996833])"
      ]
     },
     "execution_count": 36,
     "metadata": {},
     "output_type": "execute_result"
    }
   ],
   "source": [
    "cdf"
   ]
  },
  {
   "cell_type": "code",
   "execution_count": 37,
   "metadata": {},
   "outputs": [
    {
     "data": {
      "text/plain": [
       "array([0.4, 1. , 2. , 3. , 4. ])"
      ]
     },
     "execution_count": 37,
     "metadata": {},
     "output_type": "execute_result"
    }
   ],
   "source": [
    "inverse = stats.norm.ppf(cdf)\n",
    "inverse\n"
   ]
  },
  {
   "cell_type": "code",
   "execution_count": 29,
   "metadata": {},
   "outputs": [
    {
     "data": {
      "text/plain": [
       "-inf"
      ]
     },
     "execution_count": 29,
     "metadata": {},
     "output_type": "execute_result"
    }
   ],
   "source": [
    "#part 1d\n",
    "stats.norm.ppf(0)"
   ]
  },
  {
   "cell_type": "code",
   "execution_count": 30,
   "metadata": {},
   "outputs": [
    {
     "data": {
      "text/plain": [
       "nan"
      ]
     },
     "execution_count": 30,
     "metadata": {},
     "output_type": "execute_result"
    }
   ],
   "source": [
    "stats.norm.ppf(-1)"
   ]
  },
  {
   "cell_type": "code",
   "execution_count": 31,
   "metadata": {},
   "outputs": [
    {
     "data": {
      "text/plain": [
       "inf"
      ]
     },
     "execution_count": 31,
     "metadata": {},
     "output_type": "execute_result"
    }
   ],
   "source": [
    "stats.norm.ppf(1)"
   ]
  },
  {
   "cell_type": "code",
   "execution_count": 32,
   "metadata": {},
   "outputs": [
    {
     "data": {
      "text/plain": [
       "0.0"
      ]
     },
     "execution_count": 32,
     "metadata": {},
     "output_type": "execute_result"
    }
   ],
   "source": [
    "stats.norm.ppf(0.5)"
   ]
  },
  {
   "cell_type": "code",
   "execution_count": 196,
   "metadata": {},
   "outputs": [
    {
     "data": {
      "text/plain": [
       "0.36827014030332333"
      ]
     },
     "execution_count": 196,
     "metadata": {},
     "output_type": "execute_result"
    }
   ],
   "source": [
    "#The ppf uses a standard normal cdf. This means that a z-score of 0.5 corresponds with a mean of 0.\n",
    "#Anything less than that will be negative.\n",
    "stats.norm.ppf(0.001,loc=3,scale=1)\n",
    "#How will we deal with it?\n",
    "#Since in our case the sigma is just a measure of probability, \n",
    "#we will just take the absolute value of the ppf.\n",
    "#The justification for this is since we are using a standard normal distribution,\n",
    "#centered around 0, the percentage of each z value is the same as its negative:\n",
    "stats.norm.pdf(-0.4,loc=0,scale=1)\n",
    "#stats.norm.pdf(0.4,loc=0,scale=1)\n",
    "#the 2 give the same value."
   ]
  },
  {
   "cell_type": "code",
   "execution_count": 197,
   "metadata": {},
   "outputs": [
    {
     "data": {
      "image/png": "[encoded data removed]",
      "text/plain": [
       "<Figure size 432x288 with 1 Axes>"
      ]
     },
     "metadata": {
      "needs_background": "light"
     },
     "output_type": "display_data"
    },
    {
     "data": {
      "text/plain": [
       "array([ 1.15231947,  1.1523528 ,  1.15238614, ..., 20.79674318,\n",
       "       20.79734486, 20.79794656])"
      ]
     },
     "execution_count": 197,
     "metadata": {},
     "output_type": "execute_result"
    }
   ],
   "source": [
    "#part 2 - rayleigh\n",
    "fig, ax = plt.subplots(1, 1)\n",
    "plt.xlim([0,5])\n",
    "x = np.linspace(scipy.stats.rayleigh.ppf(0.01), scipy.stats.rayleigh.ppf(0.99),100000)\n",
    "y = x\n",
    "y = np.exp(y)\n",
    "d = stats.rayleigh.rvs(loc = 0, scale = 1, size = 100000)\n",
    "ax.hist(d,50, density=True)\n",
    "ax.plot(x, scipy.stats.rayleigh.pdf(x,loc=0,scale=1))\n",
    "plt.show()\n",
    "np.exp(x)"
   ]
  },
  {
   "cell_type": "code",
   "execution_count": 122,
   "metadata": {},
   "outputs": [],
   "source": [
    "#part 3"
   ]
  },
  {
   "cell_type": "code",
   "execution_count": null,
   "metadata": {},
   "outputs": [],
   "source": [
    "#a) hypothetical measurement: 3\n",
    "#b) Statistical question: What is the probability that signal-free data following the Rayleigh distribution\n",
    "#above will give a value greater than 3?\n",
    "#c) Mathematical integral: Integrate from 3 to infinity the Rayleigh pdf, where sigma = 1\n"
   ]
  },
  {
   "cell_type": "code",
   "execution_count": 139,
   "metadata": {},
   "outputs": [
    {
     "data": {
      "text/plain": [
       "0.011108996538242266"
      ]
     },
     "execution_count": 139,
     "metadata": {},
     "output_type": "execute_result"
    }
   ],
   "source": [
    "#probability that the background produced the signal\n",
    "p = 1 - scipy.stats.rayleigh.cdf(3,loc=0,scale=1)\n",
    "p"
   ]
  },
  {
   "cell_type": "code",
   "execution_count": 143,
   "metadata": {},
   "outputs": [
    {
     "data": {
      "text/plain": [
       "3.0000000000000013"
      ]
     },
     "execution_count": 143,
     "metadata": {},
     "output_type": "execute_result"
    }
   ],
   "source": [
    "#probability in sigmas\n",
    "p = scipy.stats.rayleigh.cdf(3,loc=0,scale=1)\n",
    "scipy.stats.rayleigh.ppf(p)"
   ]
  },
  {
   "cell_type": "code",
   "execution_count": 141,
   "metadata": {},
   "outputs": [
    {
     "data": {
      "text/plain": [
       "0.6065306597126334"
      ]
     },
     "execution_count": 141,
     "metadata": {},
     "output_type": "execute_result"
    }
   ],
   "source": [
    "#part 4 - exploring different values\n",
    "#what if we used the most likely value\n",
    "p = 1 - scipy.stats.rayleigh.cdf(1,loc=0,scale=1)\n",
    "p"
   ]
  },
  {
   "cell_type": "code",
   "execution_count": 144,
   "metadata": {},
   "outputs": [
    {
     "data": {
      "text/plain": [
       "1.0"
      ]
     },
     "execution_count": 144,
     "metadata": {},
     "output_type": "execute_result"
    }
   ],
   "source": [
    "#equivalent in sigmas\n",
    "p = scipy.stats.rayleigh.cdf(1,loc=0,scale=1)\n",
    "scipy.stats.rayleigh.ppf(p)"
   ]
  },
  {
   "cell_type": "code",
   "execution_count": 182,
   "metadata": {},
   "outputs": [
    {
     "data": {
      "image/png": "[encoded data removed]",
      "text/plain": [
       "<Figure size 432x288 with 1 Axes>"
      ]
     },
     "metadata": {
      "needs_background": "light"
     },
     "output_type": "display_data"
    }
   ],
   "source": [
    "#Non-continuous distributions : Poisson\n",
    "fig, ax = plt.subplots(1, 1)\n",
    "x = np.arange(0, 20,1)\n",
    "ax.bar(x, stats.poisson.pmf(x, 1),  label='poisson pmf')\n",
    "#ax.vlines(x, 0, stats.poisson.rvs(x, 5), colors='r', lw=5, alpha=0.5)\n",
    "plt.show()"
   ]
  },
  {
   "cell_type": "code",
   "execution_count": 183,
   "metadata": {},
   "outputs": [
    {
     "data": {
      "image/png": "[encoded data removed]",
      "text/plain": [
       "<Figure size 432x288 with 1 Axes>"
      ]
     },
     "metadata": {
      "needs_background": "light"
     },
     "output_type": "display_data"
    }
   ],
   "source": [
    "fig, ax = plt.subplots(1, 1)\n",
    "x = np.arange(0, 20,1)\n",
    "ax.bar(x, stats.poisson.pmf(x, 10),  label='poisson pmf')\n",
    "#ax.vlines(x, 0, stats.poisson.rvs(x, 5), colors='r', lw=5, alpha=0.5)\n",
    "plt.show()"
   ]
  },
  {
   "cell_type": "code",
   "execution_count": 184,
   "metadata": {},
   "outputs": [],
   "source": [
    "#Part 1B: The poisson distribution looks somewhat like a normal distribution \n",
    "#with a mean around its parameter mu"
   ]
  },
  {
   "cell_type": "code",
   "execution_count": 190,
   "metadata": {},
   "outputs": [
    {
     "data": {
      "text/plain": [
       "0.10081881344492458"
      ]
     },
     "execution_count": 190,
     "metadata": {},
     "output_type": "execute_result"
    }
   ],
   "source": [
    "#Part 1C: Assuming some event (e.g. number of phone calls received a day) follows a Poisson distribution\n",
    "#and I receive 3 calls a day, what is the probability of receiving 5 calls in one day?\n",
    "stats.poisson.pmf(5,3)"
   ]
  },
  {
   "cell_type": "code",
   "execution_count": 191,
   "metadata": {},
   "outputs": [],
   "source": [
    "#Part 1D: The sigmas will have to be rounded to the nearest corresponding x.\n",
    "#e.g. if a sigma of 1 corresponds to x=1 and sigma 2 = x=3, then sigma 1.5 corresponds to x=2."
   ]
  },
  {
   "cell_type": "code",
   "execution_count": 192,
   "metadata": {},
   "outputs": [],
   "source": [
    "#Part 1E: The average rate of the event occuring in a given interval doesn't change.\n",
    "#If an event occurs 3x in 1 hour, the Poisson distribution for events within a 30 min\n",
    "#interval is 1.5. That is why the results are discrete but the parameter isn't necessarily."
   ]
  },
  {
   "cell_type": "code",
   "execution_count": null,
   "metadata": {},
   "outputs": [],
   "source": []
  }
 ],
 "metadata": {
  "kernelspec": {
   "display_name": "Python 3",
   "language": "python",
   "name": "python3"
  },
  "language_info": {
   "codemirror_mode": {
    "name": "ipython",
    "version": 3
   },
   "file_extension": ".py",
   "mimetype": "text/x-python",
   "name": "python",
   "nbconvert_exporter": "python",
   "pygments_lexer": "ipython3",
   "version": "3.7.3"
  }
 },
 "nbformat": 4,
 "nbformat_minor": 4
}
