{
 "cells": [
  {
   "cell_type": "code",
   "execution_count": 12,
   "metadata": {},
   "outputs": [
    {
     "data": {
      "text/plain": [
       "array([0.02777778, 0.05555556, 0.08333333, 0.11111111, 0.13888889,\n",
       "       0.16666667, 0.13888889, 0.11111111, 0.08333333, 0.05555556,\n",
       "       0.02777778])"
      ]
     },
     "execution_count": 12,
     "metadata": {},
     "output_type": "execute_result"
    }
   ],
   "source": [
    "# HW1\n",
    "# Question 1\n",
    "# Snake eyes : 1/6 * 1/6 = 1/36\n",
    "# Sum to 7: 1 + 6, 2 + 5, 3 + 4, 4 + 3, 5 + 2, 6 + 1\n",
    "# 6 outcomes out of 36 : 1/6\n",
    "# The ratio is 1:6\n",
    "\n",
    "#Question 2\n",
    "import numpy\n",
    "dice1 = [1/6,1/6,1/6,1/6,1/6,1/6]\n",
    "dice2 = dice1\n",
    "result = numpy.convolve(dice1, dice2)\n",
    "result"
   ]
  },
  {
   "cell_type": "code",
   "execution_count": 24,
   "metadata": {},
   "outputs": [
    {
     "data": {
      "text/plain": [
       "0.09090909090909091"
      ]
     },
     "execution_count": 24,
     "metadata": {},
     "output_type": "execute_result"
    }
   ],
   "source": [
    "# counting:\n",
    "# 2: 1+1\n",
    "# 3: 2+1,1+2\n",
    "# 4: 2+2,1+3,3+1\n",
    "# 5: 2+3, 3+2, 1+4, 4+1\n",
    "# 6: 5+1,4+2,3+3,2+4,1+5\n",
    "# 7: 1+6,2+5,3+4,4+3,5+2,6+1\n",
    "# 8: 6+2,5+3,4+4,3+5,2+6\n",
    "# 9: 6+3,5+4,4+5,3+6\n",
    "# 10: 6+4,5+5,4+6\n",
    "# 11: 6+5,5+6\n",
    "# 12: 6+6\n",
    "\n",
    "# 1/36,2/36,3/36,4/36,5/36,6/36,5/36,4/36,3/36,2/36,1/36\n",
    "\n",
    "\n",
    "#Question 3\n",
    "numpy.mean(result)\n",
    "#this is the mean of the distribution"
   ]
  },
  {
   "cell_type": "code",
   "execution_count": 19,
   "metadata": {},
   "outputs": [
    {
     "data": {
      "text/plain": [
       "array([0.05555556, 0.16666667, 0.33333333, 0.55555556, 0.83333333,\n",
       "       1.16666667, 1.11111111, 1.        , 0.83333333, 0.61111111,\n",
       "       0.33333333])"
      ]
     },
     "execution_count": 19,
     "metadata": {},
     "output_type": "execute_result"
    }
   ],
   "source": [
    "values = [2,3,4,5,6,7,8,9,10,11,12]\n",
    "values2 = values * result\n",
    "values2"
   ]
  },
  {
   "cell_type": "code",
   "execution_count": 23,
   "metadata": {},
   "outputs": [
    {
     "data": {
      "text/plain": [
       "6.999999999999998"
      ]
     },
     "execution_count": 23,
     "metadata": {},
     "output_type": "execute_result"
    }
   ],
   "source": [
    "numpy.sum(values2)\n",
    "#this is the \"mean\" value of the dice rolls"
   ]
  },
  {
   "cell_type": "code",
   "execution_count": 26,
   "metadata": {},
   "outputs": [
    {
     "data": {
      "text/plain": [
       "0.0019768390980512197"
      ]
     },
     "execution_count": 26,
     "metadata": {},
     "output_type": "execute_result"
    }
   ],
   "source": [
    "numpy.var(result)"
   ]
  },
  {
   "cell_type": "code",
   "execution_count": 77,
   "metadata": {},
   "outputs": [
    {
     "data": {
      "image/png": "[encoded data removed]",
      "text/plain": [
       "<Figure size 432x288 with 1 Axes>"
      ]
     },
     "metadata": {
      "needs_background": "light"
     },
     "output_type": "display_data"
    }
   ],
   "source": [
    "# Question 4\n",
    "dice = dice1\n",
    "dice = numpy.convolve(dice,dice1,mode='same')\n",
    "dice = numpy.convolve(dice,dice1,mode='same')\n",
    "dice = numpy.convolve(dice,dice1,mode='same')\n",
    "dice = numpy.convolve(dice,dice1,mode='same')\n",
    "dice = numpy.convolve(dice,dice1,mode='same')\n",
    "dice = numpy.convolve(dice,dice1,mode='same')\n",
    "dice = numpy.convolve(dice,dice1,mode='same')\n",
    "dice = numpy.convolve(dice,dice1,mode='same')\n",
    "dice = numpy.convolve(dice,dice1,mode='same')\n",
    "dice\n",
    "import matplotlib.pyplot as plt\n",
    "fig, ax = plt.subplots(1, 1)\n",
    "ax.hist(y,50, density=True)\n",
    "plt.tick_params(labelsize = 24)\n",
    "plt.xlim([-6,6])\n",
    "x = [1,2,3,4,5,6]\n",
    "#ax.plot(x,dice,linewidth = 8,alpha = 0.7)\n",
    "plt.show()"
   ]
  },
  {
   "cell_type": "code",
   "execution_count": 82,
   "metadata": {},
   "outputs": [
    {
     "data": {
      "image/png": "[encoded data removed]",
      "text/plain": [
       "<Figure size 432x288 with 1 Axes>"
      ]
     },
     "metadata": {
      "needs_background": "light"
     },
     "output_type": "display_data"
    }
   ],
   "source": [
    "# This looks Gaussian.\n",
    "\n",
    "#Question 5\n",
    "y = numpy.random.normal(0,1,1000)\n",
    "fig, ax = plt.subplots(1, 1)\n",
    "ax.hist(y,50, density=True)\n",
    "plt.tick_params(labelsize = 24)\n",
    "plt.xlim([-6,6])\n",
    "x = [1,2,3,4,5,6]\n",
    "#ax.plot(x,y,linewidth = 8,alpha = 0.7)\n",
    "plt.show()\n"
   ]
  },
  {
   "cell_type": "code",
   "execution_count": 94,
   "metadata": {},
   "outputs": [
    {
     "data": {
      "image/png": "[encoded data removed]",
      "text/plain": [
       "<Figure size 432x288 with 1 Axes>"
      ]
     },
     "metadata": {
      "needs_background": "light"
     },
     "output_type": "display_data"
    }
   ],
   "source": [
    "y = numpy.random.normal(0,1,1000)\n",
    "z = numpy.convolve(y,y)\n",
    "fig, ax = plt.subplots(1, 1)\n",
    "ax.hist(z,50, density=True)\n",
    "plt.tick_params(labelsize = 24)\n",
    "plt.xlim([-100,100])\n",
    "x = [1,2,3,4,5,6]\n",
    "#ax.plot(x,y,linewidth = 8,alpha = 0.7)\n",
    "plt.show()"
   ]
  },
  {
   "cell_type": "code",
   "execution_count": null,
   "metadata": {},
   "outputs": [],
   "source": [
    "# Q6: From the above, adding 2 gaussian distributions results in a gaussian. The mean stays the same.\n",
    "# The standard deviation increases to the sum of the squares of the original 2 std devs."
   ]
  }
 ],
 "metadata": {
  "kernelspec": {
   "display_name": "Python 3",
   "language": "python",
   "name": "python3"
  },
  "language_info": {
   "codemirror_mode": {
    "name": "ipython",
    "version": 3
   },
   "file_extension": ".py",
   "mimetype": "text/x-python",
   "name": "python",
   "nbconvert_exporter": "python",
   "pygments_lexer": "ipython3",
   "version": "3.7.3"
  }
 },
 "nbformat": 4,
 "nbformat_minor": 4
}
